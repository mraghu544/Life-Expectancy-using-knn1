{
 "cells": [
  {
   "cell_type": "code",
   "execution_count": 2,
   "id": "2e36cae1",
   "metadata": {},
   "outputs": [],
   "source": [
    "import pandas as pd\n",
    "import numpy as np\n",
    "import matplotlib.pyplot as plt\n",
    "import seaborn as sns\n",
    "\n",
    "from sklearn.model_selection import train_test_split\n",
    "from sklearn.preprocessing import StandardScaler\n",
    "from sklearn.neighbors import KNeighborsRegressor\n",
    "from sklearn.metrics import mean_absolute_error, mean_squared_error, r2_score\n",
    "from sklearn.pipeline import Pipeline\n",
    "from sklearn.feature_selection import SelectKBest, mutual_info_regression\n"
   ]
  },
  {
   "cell_type": "code",
   "execution_count": 3,
   "id": "4e0a1621",
   "metadata": {},
   "outputs": [],
   "source": [
    "df = pd.read_csv(\"Life Expectancy Data.csv\")\n"
   ]
  },
  {
   "cell_type": "code",
   "execution_count": 4,
   "id": "343cd1d2",
   "metadata": {},
   "outputs": [
    {
     "name": "stdout",
     "output_type": "stream",
     "text": [
      "<class 'pandas.core.frame.DataFrame'>\n",
      "RangeIndex: 2938 entries, 0 to 2937\n",
      "Data columns (total 22 columns):\n",
      " #   Column                           Non-Null Count  Dtype  \n",
      "---  ------                           --------------  -----  \n",
      " 0   Country                          2938 non-null   object \n",
      " 1   Year                             2938 non-null   int64  \n",
      " 2   Status                           2938 non-null   object \n",
      " 3   Life expectancy                  2928 non-null   float64\n",
      " 4   Adult Mortality                  2928 non-null   float64\n",
      " 5   infant deaths                    2938 non-null   int64  \n",
      " 6   Alcohol                          2744 non-null   float64\n",
      " 7   percentage expenditure           2938 non-null   float64\n",
      " 8   Hepatitis B                      2385 non-null   float64\n",
      " 9   Measles                          2938 non-null   int64  \n",
      " 10   BMI                             2904 non-null   float64\n",
      " 11  under-five deaths                2938 non-null   int64  \n",
      " 12  Polio                            2919 non-null   float64\n",
      " 13  Total expenditure                2712 non-null   float64\n",
      " 14  Diphtheria                       2919 non-null   float64\n",
      " 15   HIV/AIDS                        2938 non-null   float64\n",
      " 16  GDP                              2490 non-null   float64\n",
      " 17  Population                       2286 non-null   float64\n",
      " 18   thinness  1-19 years            2904 non-null   float64\n",
      " 19   thinness 5-9 years              2904 non-null   float64\n",
      " 20  Income composition of resources  2771 non-null   float64\n",
      " 21  Schooling                        2775 non-null   float64\n",
      "dtypes: float64(16), int64(4), object(2)\n",
      "memory usage: 505.1+ KB\n",
      "None\n",
      "              Year  Life expectancy   Adult Mortality  infant deaths  \\\n",
      "count  2938.000000       2928.000000      2928.000000    2938.000000   \n",
      "mean   2007.518720         69.224932       164.796448      30.303948   \n",
      "std       4.613841          9.523867       124.292079     117.926501   \n",
      "min    2000.000000         36.300000         1.000000       0.000000   \n",
      "25%    2004.000000         63.100000        74.000000       0.000000   \n",
      "50%    2008.000000         72.100000       144.000000       3.000000   \n",
      "75%    2012.000000         75.700000       228.000000      22.000000   \n",
      "max    2015.000000         89.000000       723.000000    1800.000000   \n",
      "\n",
      "           Alcohol  percentage expenditure  Hepatitis B       Measles   \\\n",
      "count  2744.000000             2938.000000  2385.000000    2938.000000   \n",
      "mean      4.602861              738.251295    80.940461    2419.592240   \n",
      "std       4.052413             1987.914858    25.070016   11467.272489   \n",
      "min       0.010000                0.000000     1.000000       0.000000   \n",
      "25%       0.877500                4.685343    77.000000       0.000000   \n",
      "50%       3.755000               64.912906    92.000000      17.000000   \n",
      "75%       7.702500              441.534144    97.000000     360.250000   \n",
      "max      17.870000            19479.911610    99.000000  212183.000000   \n",
      "\n",
      "              BMI   under-five deaths         Polio  Total expenditure  \\\n",
      "count  2904.000000         2938.000000  2919.000000         2712.00000   \n",
      "mean     38.321247           42.035739    82.550188            5.93819   \n",
      "std      20.044034          160.445548    23.428046            2.49832   \n",
      "min       1.000000            0.000000     3.000000            0.37000   \n",
      "25%      19.300000            0.000000    78.000000            4.26000   \n",
      "50%      43.500000            4.000000    93.000000            5.75500   \n",
      "75%      56.200000           28.000000    97.000000            7.49250   \n",
      "max      87.300000         2500.000000    99.000000           17.60000   \n",
      "\n",
      "       Diphtheria      HIV/AIDS            GDP    Population  \\\n",
      "count  2919.000000  2938.000000    2490.000000  2.286000e+03   \n",
      "mean     82.324084     1.742103    7483.158469  1.275338e+07   \n",
      "std      23.716912     5.077785   14270.169342  6.101210e+07   \n",
      "min       2.000000     0.100000       1.681350  3.400000e+01   \n",
      "25%      78.000000     0.100000     463.935626  1.957932e+05   \n",
      "50%      93.000000     0.100000    1766.947595  1.386542e+06   \n",
      "75%      97.000000     0.800000    5910.806335  7.420359e+06   \n",
      "max      99.000000    50.600000  119172.741800  1.293859e+09   \n",
      "\n",
      "        thinness  1-19 years   thinness 5-9 years  \\\n",
      "count            2904.000000          2904.000000   \n",
      "mean                4.839704             4.870317   \n",
      "std                 4.420195             4.508882   \n",
      "min                 0.100000             0.100000   \n",
      "25%                 1.600000             1.500000   \n",
      "50%                 3.300000             3.300000   \n",
      "75%                 7.200000             7.200000   \n",
      "max                27.700000            28.600000   \n",
      "\n",
      "       Income composition of resources    Schooling  \n",
      "count                      2771.000000  2775.000000  \n",
      "mean                          0.627551    11.992793  \n",
      "std                           0.210904     3.358920  \n",
      "min                           0.000000     0.000000  \n",
      "25%                           0.493000    10.100000  \n",
      "50%                           0.677000    12.300000  \n",
      "75%                           0.779000    14.300000  \n",
      "max                           0.948000    20.700000  \n",
      "Country                              0\n",
      "Year                                 0\n",
      "Status                               0\n",
      "Life expectancy                     10\n",
      "Adult Mortality                     10\n",
      "infant deaths                        0\n",
      "Alcohol                            194\n",
      "percentage expenditure               0\n",
      "Hepatitis B                        553\n",
      "Measles                              0\n",
      " BMI                                34\n",
      "under-five deaths                    0\n",
      "Polio                               19\n",
      "Total expenditure                  226\n",
      "Diphtheria                          19\n",
      " HIV/AIDS                            0\n",
      "GDP                                448\n",
      "Population                         652\n",
      " thinness  1-19 years               34\n",
      " thinness 5-9 years                 34\n",
      "Income composition of resources    167\n",
      "Schooling                          163\n",
      "dtype: int64\n"
     ]
    }
   ],
   "source": [
    "print(df.info())\n",
    "print(df.describe())\n",
    "print(df.isnull().sum())\n"
   ]
  },
  {
   "cell_type": "code",
   "execution_count": 5,
   "id": "0ec58196",
   "metadata": {},
   "outputs": [
    {
     "data": {
      "image/png": "[encoded data removed]",
      "text/plain": [
       "<Figure size 720x432 with 1 Axes>"
      ]
     },
     "metadata": {
      "needs_background": "light"
     },
     "output_type": "display_data"
    }
   ],
   "source": [
    "plt.figure(figsize=(10,6))\n",
    "sns.heatmap(df.isnull(), cbar=False, cmap='viridis')\n",
    "plt.title('Missing Values Heatmap')\n",
    "plt.show()\n"
   ]
  },
  {
   "cell_type": "code",
   "execution_count": 6,
   "id": "5593cd91",
   "metadata": {},
   "outputs": [],
   "source": [
    "df.drop(['Country', 'Status'], axis=1, inplace=True)\n"
   ]
  },
  {
   "cell_type": "code",
   "execution_count": 7,
   "id": "db65be96",
   "metadata": {},
   "outputs": [
    {
     "data": {
      "text/plain": [
       "Index(['Year', 'Life expectancy ', 'Adult Mortality', 'infant deaths',\n",
       "       'Alcohol', 'percentage expenditure', 'Hepatitis B', 'Measles ', ' BMI ',\n",
       "       'under-five deaths ', 'Polio', 'Total expenditure', 'Diphtheria ',\n",
       "       ' HIV/AIDS', 'GDP', 'Population', ' thinness  1-19 years',\n",
       "       ' thinness 5-9 years', 'Income composition of resources', 'Schooling'],\n",
       "      dtype='object')"
      ]
     },
     "execution_count": 7,
     "metadata": {},
     "output_type": "execute_result"
    }
   ],
   "source": [
    "df.columns"
   ]
  },
  {
   "cell_type": "code",
   "execution_count": 8,
   "id": "66f76ec5",
   "metadata": {},
   "outputs": [
    {
     "data": {
      "text/html": [
       "<div>\n",
       "<style scoped>\n",
       "    .dataframe tbody tr th:only-of-type {\n",
       "        vertical-align: middle;\n",
       "    }\n",
       "\n",
       "    .dataframe tbody tr th {\n",
       "        vertical-align: top;\n",
       "    }\n",
       "\n",
       "    .dataframe thead th {\n",
       "        text-align: right;\n",
       "    }\n",
       "</style>\n",
       "<table border=\"1\" class=\"dataframe\">\n",
       "  <thead>\n",
       "    <tr style=\"text-align: right;\">\n",
       "      <th></th>\n",
       "      <th>Year</th>\n",
       "      <th>Life expectancy</th>\n",
       "      <th>Adult Mortality</th>\n",
       "      <th>infant deaths</th>\n",
       "      <th>Alcohol</th>\n",
       "      <th>percentage expenditure</th>\n",
       "      <th>Hepatitis B</th>\n",
       "      <th>Measles</th>\n",
       "      <th>BMI</th>\n",
       "      <th>under-five deaths</th>\n",
       "      <th>Polio</th>\n",
       "      <th>Total expenditure</th>\n",
       "      <th>Diphtheria</th>\n",
       "      <th>HIV/AIDS</th>\n",
       "      <th>GDP</th>\n",
       "      <th>Population</th>\n",
       "      <th>thinness  1-19 years</th>\n",
       "      <th>thinness 5-9 years</th>\n",
       "      <th>Income composition of resources</th>\n",
       "      <th>Schooling</th>\n",
       "    </tr>\n",
       "  </thead>\n",
       "  <tbody>\n",
       "    <tr>\n",
       "      <th>0</th>\n",
       "      <td>2015</td>\n",
       "      <td>65.0</td>\n",
       "      <td>263.0</td>\n",
       "      <td>62</td>\n",
       "      <td>0.01</td>\n",
       "      <td>71.279624</td>\n",
       "      <td>65.0</td>\n",
       "      <td>1154</td>\n",
       "      <td>19.1</td>\n",
       "      <td>83</td>\n",
       "      <td>6.0</td>\n",
       "      <td>8.16</td>\n",
       "      <td>65.0</td>\n",
       "      <td>0.1</td>\n",
       "      <td>584.259210</td>\n",
       "      <td>33736494.0</td>\n",
       "      <td>17.2</td>\n",
       "      <td>17.3</td>\n",
       "      <td>0.479</td>\n",
       "      <td>10.1</td>\n",
       "    </tr>\n",
       "    <tr>\n",
       "      <th>1</th>\n",
       "      <td>2014</td>\n",
       "      <td>59.9</td>\n",
       "      <td>271.0</td>\n",
       "      <td>64</td>\n",
       "      <td>0.01</td>\n",
       "      <td>73.523582</td>\n",
       "      <td>62.0</td>\n",
       "      <td>492</td>\n",
       "      <td>18.6</td>\n",
       "      <td>86</td>\n",
       "      <td>58.0</td>\n",
       "      <td>8.18</td>\n",
       "      <td>62.0</td>\n",
       "      <td>0.1</td>\n",
       "      <td>612.696514</td>\n",
       "      <td>327582.0</td>\n",
       "      <td>17.5</td>\n",
       "      <td>17.5</td>\n",
       "      <td>0.476</td>\n",
       "      <td>10.0</td>\n",
       "    </tr>\n",
       "    <tr>\n",
       "      <th>2</th>\n",
       "      <td>2013</td>\n",
       "      <td>59.9</td>\n",
       "      <td>268.0</td>\n",
       "      <td>66</td>\n",
       "      <td>0.01</td>\n",
       "      <td>73.219243</td>\n",
       "      <td>64.0</td>\n",
       "      <td>430</td>\n",
       "      <td>18.1</td>\n",
       "      <td>89</td>\n",
       "      <td>62.0</td>\n",
       "      <td>8.13</td>\n",
       "      <td>64.0</td>\n",
       "      <td>0.1</td>\n",
       "      <td>631.744976</td>\n",
       "      <td>31731688.0</td>\n",
       "      <td>17.7</td>\n",
       "      <td>17.7</td>\n",
       "      <td>0.470</td>\n",
       "      <td>9.9</td>\n",
       "    </tr>\n",
       "    <tr>\n",
       "      <th>3</th>\n",
       "      <td>2012</td>\n",
       "      <td>59.5</td>\n",
       "      <td>272.0</td>\n",
       "      <td>69</td>\n",
       "      <td>0.01</td>\n",
       "      <td>78.184215</td>\n",
       "      <td>67.0</td>\n",
       "      <td>2787</td>\n",
       "      <td>17.6</td>\n",
       "      <td>93</td>\n",
       "      <td>67.0</td>\n",
       "      <td>8.52</td>\n",
       "      <td>67.0</td>\n",
       "      <td>0.1</td>\n",
       "      <td>669.959000</td>\n",
       "      <td>3696958.0</td>\n",
       "      <td>17.9</td>\n",
       "      <td>18.0</td>\n",
       "      <td>0.463</td>\n",
       "      <td>9.8</td>\n",
       "    </tr>\n",
       "    <tr>\n",
       "      <th>4</th>\n",
       "      <td>2011</td>\n",
       "      <td>59.2</td>\n",
       "      <td>275.0</td>\n",
       "      <td>71</td>\n",
       "      <td>0.01</td>\n",
       "      <td>7.097109</td>\n",
       "      <td>68.0</td>\n",
       "      <td>3013</td>\n",
       "      <td>17.2</td>\n",
       "      <td>97</td>\n",
       "      <td>68.0</td>\n",
       "      <td>7.87</td>\n",
       "      <td>68.0</td>\n",
       "      <td>0.1</td>\n",
       "      <td>63.537231</td>\n",
       "      <td>2978599.0</td>\n",
       "      <td>18.2</td>\n",
       "      <td>18.2</td>\n",
       "      <td>0.454</td>\n",
       "      <td>9.5</td>\n",
       "    </tr>\n",
       "  </tbody>\n",
       "</table>\n",
       "</div>"
      ],
      "text/plain": [
       "   Year  Life expectancy   Adult Mortality  infant deaths  Alcohol  \\\n",
       "0  2015              65.0            263.0             62     0.01   \n",
       "1  2014              59.9            271.0             64     0.01   \n",
       "2  2013              59.9            268.0             66     0.01   \n",
       "3  2012              59.5            272.0             69     0.01   \n",
       "4  2011              59.2            275.0             71     0.01   \n",
       "\n",
       "   percentage expenditure  Hepatitis B  Measles    BMI   under-five deaths   \\\n",
       "0               71.279624         65.0      1154   19.1                  83   \n",
       "1               73.523582         62.0       492   18.6                  86   \n",
       "2               73.219243         64.0       430   18.1                  89   \n",
       "3               78.184215         67.0      2787   17.6                  93   \n",
       "4                7.097109         68.0      3013   17.2                  97   \n",
       "\n",
       "   Polio  Total expenditure  Diphtheria    HIV/AIDS         GDP  Population  \\\n",
       "0    6.0               8.16         65.0        0.1  584.259210  33736494.0   \n",
       "1   58.0               8.18         62.0        0.1  612.696514    327582.0   \n",
       "2   62.0               8.13         64.0        0.1  631.744976  31731688.0   \n",
       "3   67.0               8.52         67.0        0.1  669.959000   3696958.0   \n",
       "4   68.0               7.87         68.0        0.1   63.537231   2978599.0   \n",
       "\n",
       "    thinness  1-19 years   thinness 5-9 years  \\\n",
       "0                   17.2                 17.3   \n",
       "1                   17.5                 17.5   \n",
       "2                   17.7                 17.7   \n",
       "3                   17.9                 18.0   \n",
       "4                   18.2                 18.2   \n",
       "\n",
       "   Income composition of resources  Schooling  \n",
       "0                            0.479       10.1  \n",
       "1                            0.476       10.0  \n",
       "2                            0.470        9.9  \n",
       "3                            0.463        9.8  \n",
       "4                            0.454        9.5  "
      ]
     },
     "execution_count": 8,
     "metadata": {},
     "output_type": "execute_result"
    }
   ],
   "source": [
    "df.head()"
   ]
  },
  {
   "cell_type": "code",
   "execution_count": 9,
   "id": "9479dedb",
   "metadata": {},
   "outputs": [],
   "source": [
    "# Let us drop duplicate values\n",
    "df=df.drop_duplicates()"
   ]
  },
  {
   "cell_type": "code",
   "execution_count": 10,
   "id": "f19690a4",
   "metadata": {},
   "outputs": [],
   "source": [
    "# Step 6: Fill missing values with mean for numeric columns\n",
    "numeric_cols = df.select_dtypes(include=[np.number]).columns\n",
    "df[numeric_cols] = df[numeric_cols].apply(lambda col: col.fillna(col.median()))"
   ]
  },
  {
   "cell_type": "code",
   "execution_count": 11,
   "id": "38b10105",
   "metadata": {},
   "outputs": [
    {
     "data": {
      "text/plain": [
       "Year                               0\n",
       "Life expectancy                    0\n",
       "Adult Mortality                    0\n",
       "infant deaths                      0\n",
       "Alcohol                            0\n",
       "percentage expenditure             0\n",
       "Hepatitis B                        0\n",
       "Measles                            0\n",
       " BMI                               0\n",
       "under-five deaths                  0\n",
       "Polio                              0\n",
       "Total expenditure                  0\n",
       "Diphtheria                         0\n",
       " HIV/AIDS                          0\n",
       "GDP                                0\n",
       "Population                         0\n",
       " thinness  1-19 years              0\n",
       " thinness 5-9 years                0\n",
       "Income composition of resources    0\n",
       "Schooling                          0\n",
       "dtype: int64"
      ]
     },
     "execution_count": 11,
     "metadata": {},
     "output_type": "execute_result"
    }
   ],
   "source": [
    "df.isnull().sum()"
   ]
  },
  {
   "cell_type": "code",
   "execution_count": 12,
   "id": "c14de179",
   "metadata": {},
   "outputs": [],
   "source": [
    "from sklearn.preprocessing import RobustScaler\n",
    "scaler = RobustScaler()\n",
    "X_scaled = scaler.fit_transform(df.drop('Life expectancy ', axis=1))\n"
   ]
  },
  {
   "cell_type": "code",
   "execution_count": 13,
   "id": "bd607658",
   "metadata": {},
   "outputs": [],
   "source": [
    "X = df.drop('Life expectancy ', axis=1)\n",
    "y = df['Life expectancy ']\n",
    "\n",
    "X_train, X_test, y_train, y_test = train_test_split(X, y, test_size=0.2, random_state=42)\n"
   ]
  },
  {
   "cell_type": "code",
   "execution_count": 14,
   "id": "3e7eb42c",
   "metadata": {},
   "outputs": [],
   "source": [
    "selector = SelectKBest(score_func=mutual_info_regression, k=10)\n",
    "X_train_selected = selector.fit_transform(X_train, y_train)\n",
    "X_test_selected = selector.transform(X_test)\n"
   ]
  },
  {
   "cell_type": "code",
   "execution_count": 15,
   "id": "482a4e8d",
   "metadata": {},
   "outputs": [
    {
     "name": "stdout",
     "output_type": "stream",
     "text": [
      "Index(['Adult Mortality', 'infant deaths', 'Alcohol', ' BMI ',\n",
      "       'under-five deaths ', ' HIV/AIDS', ' thinness  1-19 years',\n",
      "       ' thinness 5-9 years', 'Income composition of resources', 'Schooling'],\n",
      "      dtype='object')\n"
     ]
    }
   ],
   "source": [
    "selected_features = X_train.columns[selector.get_support()]\n",
    "print(selected_features)\n"
   ]
  },
  {
   "cell_type": "code",
   "execution_count": 16,
   "id": "d6955088",
   "metadata": {},
   "outputs": [],
   "source": [
    "knn = KNeighborsRegressor(n_neighbors=5)\n",
    "knn.fit(X_train_selected, y_train)\n",
    "y_pred = knn.predict(X_test_selected)\n"
   ]
  },
  {
   "cell_type": "code",
   "execution_count": 17,
   "id": "881aff95",
   "metadata": {},
   "outputs": [],
   "source": [
    "pipe = Pipeline([\n",
    "    ('scaler', RobustScaler()),\n",
    "    ('selector', SelectKBest(score_func=mutual_info_regression, k=10)),\n",
    "    ('knn', KNeighborsRegressor(n_neighbors=5))\n",
    "])\n",
    "\n",
    "pipe.fit(X_train, y_train)\n",
    "y_pred = pipe.predict(X_test)\n"
   ]
  },
  {
   "cell_type": "code",
   "execution_count": 18,
   "id": "7f20b79d",
   "metadata": {},
   "outputs": [
    {
     "data": {
      "text/plain": [
       "Pipeline(steps=[('scaler', RobustScaler()),\n",
       "                ('selector',\n",
       "                 SelectKBest(score_func=<function mutual_info_regression at 0x000001DA64A7C790>)),\n",
       "                ('knn', KNeighborsRegressor())])"
      ]
     },
     "execution_count": 18,
     "metadata": {},
     "output_type": "execute_result"
    }
   ],
   "source": [
    "pipe"
   ]
  },
  {
   "cell_type": "code",
   "execution_count": 19,
   "id": "786cbe20",
   "metadata": {},
   "outputs": [
    {
     "data": {
      "text/plain": [
       "array([73.44, 74.86, 75.62, 76.1 , 50.72, 57.08, 68.16, 73.58, 77.9 ,\n",
       "       55.34, 53.  , 54.88, 51.72, 75.86, 68.44, 62.86, 58.44, 79.06,\n",
       "       72.4 , 80.32, 78.8 , 83.5 , 73.66, 68.04, 71.1 , 72.1 , 55.1 ,\n",
       "       65.54, 81.98, 73.34, 67.  , 73.64, 73.04, 71.9 , 78.5 , 51.34,\n",
       "       60.7 , 72.4 , 63.62, 70.6 , 55.  , 60.72, 75.58, 81.74, 76.24,\n",
       "       56.88, 81.44, 75.86, 62.32, 69.48, 53.34, 73.14, 81.44, 80.48,\n",
       "       74.8 , 55.18, 75.02, 74.26, 67.16, 71.92, 78.62, 55.04, 74.5 ,\n",
       "       73.18, 56.34, 47.16, 53.48, 75.32, 65.4 , 72.14, 83.96, 78.28,\n",
       "       73.56, 50.5 , 59.94, 68.34, 64.36, 75.5 , 57.76, 68.48, 63.56,\n",
       "       61.52, 64.02, 68.32, 68.56, 78.92, 70.82, 67.04, 74.08, 82.98,\n",
       "       73.06, 54.34, 72.82, 80.98, 75.76, 70.58, 81.12, 70.96, 65.84,\n",
       "       62.46, 82.58, 54.98, 65.4 , 56.34, 75.98, 80.84, 68.74, 70.2 ,\n",
       "       60.72, 61.12, 65.16, 60.72, 53.92, 66.24, 64.34, 77.5 , 53.78,\n",
       "       55.9 , 57.94, 64.36, 65.24, 70.78, 81.72, 58.1 , 61.28, 66.4 ,\n",
       "       73.24, 59.54, 72.66, 72.3 , 74.44, 82.62, 70.44, 67.1 , 53.52,\n",
       "       66.98, 75.7 , 78.6 , 75.84, 75.34, 72.84, 68.14, 63.1 , 62.34,\n",
       "       48.02, 64.44, 70.44, 73.86, 60.36, 79.1 , 76.64, 83.9 , 67.46,\n",
       "       57.76, 82.  , 77.02, 82.72, 71.88, 80.04, 81.14, 72.9 , 83.18,\n",
       "       70.24, 82.44, 73.18, 64.22, 60.58, 82.58, 78.46, 65.46, 82.98,\n",
       "       73.86, 73.14, 58.18, 74.3 , 67.9 , 72.62, 63.94, 54.28, 69.32,\n",
       "       78.56, 70.88, 80.66, 74.2 , 80.42, 45.96, 64.56, 54.14, 72.24,\n",
       "       74.34, 61.14, 68.94, 77.48, 64.02, 77.02, 69.56, 74.2 , 72.84,\n",
       "       77.94, 73.88, 74.04, 54.42, 75.42, 70.96, 67.1 , 47.9 , 74.8 ,\n",
       "       68.94, 73.24, 81.68, 60.66, 52.82, 74.58, 53.18, 60.08, 62.22,\n",
       "       66.62, 76.84, 57.82, 66.62, 77.02, 75.52, 80.48, 78.84, 74.38,\n",
       "       50.06, 48.22, 76.88, 53.  , 66.66, 72.26, 75.4 , 65.7 , 73.8 ,\n",
       "       73.18, 54.96, 79.64, 84.12, 53.08, 73.22, 74.6 , 73.44, 73.28,\n",
       "       70.14, 62.24, 51.4 , 80.64, 73.78, 74.86, 63.94, 71.8 , 76.82,\n",
       "       57.06, 81.74, 75.86, 68.86, 56.62, 79.  , 56.32, 52.88, 64.14,\n",
       "       67.62, 62.2 , 53.7 , 73.04, 79.38, 68.92, 78.68, 45.76, 52.78,\n",
       "       61.76, 53.5 , 73.62, 74.26, 48.94, 72.  , 61.28, 72.62, 64.14,\n",
       "       64.08, 65.46, 80.4 , 61.24, 74.56, 76.92, 64.02, 72.34, 48.06,\n",
       "       60.72, 74.8 , 65.62, 74.26, 64.02, 75.9 , 75.84, 67.28, 77.74,\n",
       "       73.24, 44.92, 67.1 , 76.32, 75.02, 73.16, 74.6 , 80.48, 49.22,\n",
       "       53.34, 52.98, 73.36, 79.44, 70.94, 56.06, 73.4 , 62.14, 71.54,\n",
       "       65.02, 51.78, 73.88, 55.96, 79.54, 52.88, 83.7 , 53.54, 73.52,\n",
       "       67.46, 77.18, 73.4 , 71.64, 73.76, 81.42, 66.76, 68.02, 59.82,\n",
       "       67.1 , 73.64, 82.36, 68.2 , 73.5 , 74.12, 73.  , 65.2 , 74.44,\n",
       "       68.42, 71.5 , 73.  , 54.32, 50.54, 74.6 , 70.9 , 76.7 , 63.9 ,\n",
       "       70.06, 63.92, 56.46, 73.72, 83.56, 68.3 , 68.72, 73.4 , 75.7 ,\n",
       "       54.72, 73.88, 76.92, 66.48, 71.12, 59.74, 56.72, 75.7 , 61.98,\n",
       "       75.08, 74.22, 58.36, 73.54, 75.2 , 74.86, 75.2 , 56.62, 73.6 ,\n",
       "       74.  , 70.38, 55.56, 82.22, 80.62, 82.18, 62.06, 47.84, 74.46,\n",
       "       56.06, 69.9 , 73.96, 54.06, 79.24, 74.28, 82.46, 64.22, 64.34,\n",
       "       81.28, 72.4 , 86.2 , 73.86, 54.6 , 79.42, 52.14, 68.4 , 62.7 ,\n",
       "       56.9 , 73.3 , 71.8 , 68.66, 72.68, 75.84, 78.96, 80.48, 75.08,\n",
       "       70.3 , 69.74, 63.74, 72.84, 72.36, 73.16, 64.22, 57.12, 66.5 ,\n",
       "       70.72, 73.82, 76.94, 50.72, 59.44, 72.2 , 69.66, 52.52, 76.66,\n",
       "       68.34, 68.12, 48.58, 52.32, 53.6 , 66.1 , 66.62, 76.92, 73.62,\n",
       "       72.02, 73.26, 82.  , 81.4 , 68.86, 76.18, 80.02, 79.44, 56.14,\n",
       "       82.88, 61.62, 67.46, 74.22, 53.94, 84.44, 81.26, 52.32, 69.56,\n",
       "       74.  , 73.68, 60.1 , 62.46, 63.74, 59.64, 55.54, 82.46, 70.04,\n",
       "       82.  , 67.46, 74.48, 75.84, 70.06, 74.38, 83.04, 68.56, 65.46,\n",
       "       67.1 , 79.02, 80.48, 77.2 , 70.24, 73.12, 72.86, 67.1 , 81.54,\n",
       "       73.02, 82.56, 72.88, 76.92, 74.22, 71.72, 51.84, 66.5 , 69.68,\n",
       "       64.02, 83.78, 73.18, 63.7 , 71.12, 67.24, 57.24, 81.88, 72.82,\n",
       "       76.3 , 82.6 , 73.14, 77.3 , 71.8 , 74.1 , 62.88, 72.76, 70.52,\n",
       "       70.4 , 52.1 , 63.88, 62.9 , 63.26, 70.34, 56.62, 71.42, 82.9 ,\n",
       "       70.14, 75.04, 72.84, 64.06, 62.4 , 72.8 , 77.48, 82.22, 54.24,\n",
       "       72.56, 74.  , 80.98, 73.96, 82.66, 71.84, 75.78, 84.32, 78.04,\n",
       "       77.52, 51.14, 58.1 , 73.56, 75.16, 64.46, 70.06, 55.88, 58.16,\n",
       "       73.42, 74.38, 57.44, 81.92, 56.62, 74.66, 70.46, 75.52, 70.86,\n",
       "       75.84, 83.9 , 60.36, 82.28, 82.46, 75.16, 52.12, 75.16, 79.62,\n",
       "       82.02, 59.2 , 72.5 , 74.26, 62.54, 78.64, 73.72, 74.1 , 68.94,\n",
       "       73.52, 70.98, 53.32, 73.84, 58.36, 78.62, 77.3 , 65.1 , 73.4 ,\n",
       "       63.12, 72.8 , 73.98])"
      ]
     },
     "execution_count": 19,
     "metadata": {},
     "output_type": "execute_result"
    }
   ],
   "source": [
    "y_pred"
   ]
  },
  {
   "cell_type": "code",
   "execution_count": 20,
   "id": "d4a62349",
   "metadata": {},
   "outputs": [
    {
     "name": "stdout",
     "output_type": "stream",
     "text": [
      "MAE: 1.554455782312925\n",
      "MSE: 5.412479591836734\n",
      "RMSE: 2.3264736387581815\n",
      "R2: 0.9375488158340654\n"
     ]
    }
   ],
   "source": [
    "print('MAE:', mean_absolute_error(y_test, y_pred))\n",
    "print('MSE:', mean_squared_error(y_test, y_pred))\n",
    "print('RMSE:', np.sqrt(mean_squared_error(y_test, y_pred)))\n",
    "print('R2:', r2_score(y_test, y_pred))\n"
   ]
  },
  {
   "cell_type": "code",
   "execution_count": 21,
   "id": "44cb66ef",
   "metadata": {},
   "outputs": [],
   "source": [
    "import pickle\n",
    "\n",
    "# Save the pipeline\n",
    "with open('knn_life_expectancy_model.pkl', 'wb') as f:\n",
    "    pickle.dump(pipe, f)\n"
   ]
  },
  {
   "cell_type": "code",
   "execution_count": 22,
   "id": "0d225f4c",
   "metadata": {},
   "outputs": [],
   "source": [
    "with open('knn_life_expectancy_model.pkl', 'rb') as f:\n",
    "    loaded_model = pickle.load(f)\n",
    "\n",
    "# Predict\n",
    "new_prediction = loaded_model.predict(X_test)\n"
   ]
  },
  {
   "cell_type": "code",
   "execution_count": 23,
   "id": "5680b4c6",
   "metadata": {},
   "outputs": [
    {
     "data": {
      "text/plain": [
       "array([73.44, 74.86, 75.62, 76.1 , 50.72, 57.08, 68.16, 73.58, 77.9 ,\n",
       "       55.34, 53.  , 54.88, 51.72, 75.86, 68.44, 62.86, 58.44, 79.06,\n",
       "       72.4 , 80.32, 78.8 , 83.5 , 73.66, 68.04, 71.1 , 72.1 , 55.1 ,\n",
       "       65.54, 81.98, 73.34, 67.  , 73.64, 73.04, 71.9 , 78.5 , 51.34,\n",
       "       60.7 , 72.4 , 63.62, 70.6 , 55.  , 60.72, 75.58, 81.74, 76.24,\n",
       "       56.88, 81.44, 75.86, 62.32, 69.48, 53.34, 73.14, 81.44, 80.48,\n",
       "       74.8 , 55.18, 75.02, 74.26, 67.16, 71.92, 78.62, 55.04, 74.5 ,\n",
       "       73.18, 56.34, 47.16, 53.48, 75.32, 65.4 , 72.14, 83.96, 78.28,\n",
       "       73.56, 50.5 , 59.94, 68.34, 64.36, 75.5 , 57.76, 68.48, 63.56,\n",
       "       61.52, 64.02, 68.32, 68.56, 78.92, 70.82, 67.04, 74.08, 82.98,\n",
       "       73.06, 54.34, 72.82, 80.98, 75.76, 70.58, 81.12, 70.96, 65.84,\n",
       "       62.46, 82.58, 54.98, 65.4 , 56.34, 75.98, 80.84, 68.74, 70.2 ,\n",
       "       60.72, 61.12, 65.16, 60.72, 53.92, 66.24, 64.34, 77.5 , 53.78,\n",
       "       55.9 , 57.94, 64.36, 65.24, 70.78, 81.72, 58.1 , 61.28, 66.4 ,\n",
       "       73.24, 59.54, 72.66, 72.3 , 74.44, 82.62, 70.44, 67.1 , 53.52,\n",
       "       66.98, 75.7 , 78.6 , 75.84, 75.34, 72.84, 68.14, 63.1 , 62.34,\n",
       "       48.02, 64.44, 70.44, 73.86, 60.36, 79.1 , 76.64, 83.9 , 67.46,\n",
       "       57.76, 82.  , 77.02, 82.72, 71.88, 80.04, 81.14, 72.9 , 83.18,\n",
       "       70.24, 82.44, 73.18, 64.22, 60.58, 82.58, 78.46, 65.46, 82.98,\n",
       "       73.86, 73.14, 58.18, 74.3 , 67.9 , 72.62, 63.94, 54.28, 69.32,\n",
       "       78.56, 70.88, 80.66, 74.2 , 80.42, 45.96, 64.56, 54.14, 72.24,\n",
       "       74.34, 61.14, 68.94, 77.48, 64.02, 77.02, 69.56, 74.2 , 72.84,\n",
       "       77.94, 73.88, 74.04, 54.42, 75.42, 70.96, 67.1 , 47.9 , 74.8 ,\n",
       "       68.94, 73.24, 81.68, 60.66, 52.82, 74.58, 53.18, 60.08, 62.22,\n",
       "       66.62, 76.84, 57.82, 66.62, 77.02, 75.52, 80.48, 78.84, 74.38,\n",
       "       50.06, 48.22, 76.88, 53.  , 66.66, 72.26, 75.4 , 65.7 , 73.8 ,\n",
       "       73.18, 54.96, 79.64, 84.12, 53.08, 73.22, 74.6 , 73.44, 73.28,\n",
       "       70.14, 62.24, 51.4 , 80.64, 73.78, 74.86, 63.94, 71.8 , 76.82,\n",
       "       57.06, 81.74, 75.86, 68.86, 56.62, 79.  , 56.32, 52.88, 64.14,\n",
       "       67.62, 62.2 , 53.7 , 73.04, 79.38, 68.92, 78.68, 45.76, 52.78,\n",
       "       61.76, 53.5 , 73.62, 74.26, 48.94, 72.  , 61.28, 72.62, 64.14,\n",
       "       64.08, 65.46, 80.4 , 61.24, 74.56, 76.92, 64.02, 72.34, 48.06,\n",
       "       60.72, 74.8 , 65.62, 74.26, 64.02, 75.9 , 75.84, 67.28, 77.74,\n",
       "       73.24, 44.92, 67.1 , 76.32, 75.02, 73.16, 74.6 , 80.48, 49.22,\n",
       "       53.34, 52.98, 73.36, 79.44, 70.94, 56.06, 73.4 , 62.14, 71.54,\n",
       "       65.02, 51.78, 73.88, 55.96, 79.54, 52.88, 83.7 , 53.54, 73.52,\n",
       "       67.46, 77.18, 73.4 , 71.64, 73.76, 81.42, 66.76, 68.02, 59.82,\n",
       "       67.1 , 73.64, 82.36, 68.2 , 73.5 , 74.12, 73.  , 65.2 , 74.44,\n",
       "       68.42, 71.5 , 73.  , 54.32, 50.54, 74.6 , 70.9 , 76.7 , 63.9 ,\n",
       "       70.06, 63.92, 56.46, 73.72, 83.56, 68.3 , 68.72, 73.4 , 75.7 ,\n",
       "       54.72, 73.88, 76.92, 66.48, 71.12, 59.74, 56.72, 75.7 , 61.98,\n",
       "       75.08, 74.22, 58.36, 73.54, 75.2 , 74.86, 75.2 , 56.62, 73.6 ,\n",
       "       74.  , 70.38, 55.56, 82.22, 80.62, 82.18, 62.06, 47.84, 74.46,\n",
       "       56.06, 69.9 , 73.96, 54.06, 79.24, 74.28, 82.46, 64.22, 64.34,\n",
       "       81.28, 72.4 , 86.2 , 73.86, 54.6 , 79.42, 52.14, 68.4 , 62.7 ,\n",
       "       56.9 , 73.3 , 71.8 , 68.66, 72.68, 75.84, 78.96, 80.48, 75.08,\n",
       "       70.3 , 69.74, 63.74, 72.84, 72.36, 73.16, 64.22, 57.12, 66.5 ,\n",
       "       70.72, 73.82, 76.94, 50.72, 59.44, 72.2 , 69.66, 52.52, 76.66,\n",
       "       68.34, 68.12, 48.58, 52.32, 53.6 , 66.1 , 66.62, 76.92, 73.62,\n",
       "       72.02, 73.26, 82.  , 81.4 , 68.86, 76.18, 80.02, 79.44, 56.14,\n",
       "       82.88, 61.62, 67.46, 74.22, 53.94, 84.44, 81.26, 52.32, 69.56,\n",
       "       74.  , 73.68, 60.1 , 62.46, 63.74, 59.64, 55.54, 82.46, 70.04,\n",
       "       82.  , 67.46, 74.48, 75.84, 70.06, 74.38, 83.04, 68.56, 65.46,\n",
       "       67.1 , 79.02, 80.48, 77.2 , 70.24, 73.12, 72.86, 67.1 , 81.54,\n",
       "       73.02, 82.56, 72.88, 76.92, 74.22, 71.72, 51.84, 66.5 , 69.68,\n",
       "       64.02, 83.78, 73.18, 63.7 , 71.12, 67.24, 57.24, 81.88, 72.82,\n",
       "       76.3 , 82.6 , 73.14, 77.3 , 71.8 , 74.1 , 62.88, 72.76, 70.52,\n",
       "       70.4 , 52.1 , 63.88, 62.9 , 63.26, 70.34, 56.62, 71.42, 82.9 ,\n",
       "       70.14, 75.04, 72.84, 64.06, 62.4 , 72.8 , 77.48, 82.22, 54.24,\n",
       "       72.56, 74.  , 80.98, 73.96, 82.66, 71.84, 75.78, 84.32, 78.04,\n",
       "       77.52, 51.14, 58.1 , 73.56, 75.16, 64.46, 70.06, 55.88, 58.16,\n",
       "       73.42, 74.38, 57.44, 81.92, 56.62, 74.66, 70.46, 75.52, 70.86,\n",
       "       75.84, 83.9 , 60.36, 82.28, 82.46, 75.16, 52.12, 75.16, 79.62,\n",
       "       82.02, 59.2 , 72.5 , 74.26, 62.54, 78.64, 73.72, 74.1 , 68.94,\n",
       "       73.52, 70.98, 53.32, 73.84, 58.36, 78.62, 77.3 , 65.1 , 73.4 ,\n",
       "       63.12, 72.8 , 73.98])"
      ]
     },
     "execution_count": 23,
     "metadata": {},
     "output_type": "execute_result"
    }
   ],
   "source": [
    "new_prediction"
   ]
  },
  {
   "cell_type": "code",
   "execution_count": null,
   "id": "7a6c3f0d",
   "metadata": {},
   "outputs": [],
   "source": []
  }
 ],
 "metadata": {
  "kernelspec": {
   "display_name": "Python 3 (ipykernel)",
   "language": "python",
   "name": "python3"
  },
  "language_info": {
   "codemirror_mode": {
    "name": "ipython",
    "version": 3
   },
   "file_extension": ".py",
   "mimetype": "text/x-python",
   "name": "python",
   "nbconvert_exporter": "python",
   "pygments_lexer": "ipython3",
   "version": "3.9.7"
  }
 },
 "nbformat": 4,
 "nbformat_minor": 5
}
